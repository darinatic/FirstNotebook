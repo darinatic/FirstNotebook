{
 "cells": [
  {
   "cell_type": "markdown",
   "id": "0829096d",
   "metadata": {},
   "source": [
    "# Data Science Tools and Ecosystem"
   ]
  },
  {
   "cell_type": "markdown",
   "id": "d586fc1d",
   "metadata": {},
   "source": [
    "In this notebook, Data Science Tools and Ecosystem are summarized."
   ]
  },
  {
   "cell_type": "markdown",
   "id": "05867db5",
   "metadata": {},
   "source": [
    "__Objectives:__\n",
    "* list of popular languages for Data Science\n",
    "* commonly used libraries for Data Science\n",
    "* Evaluation of arithmetic expression"
   ]
  },
  {
   "cell_type": "markdown",
   "id": "15c9d12d",
   "metadata": {},
   "source": [
    "some of the popular languages that Data Scientists use are:\n",
    "1. Python\n",
    "2. Scala\n",
    "3. Java"
   ]
  },
  {
   "cell_type": "markdown",
   "id": "5537e65a",
   "metadata": {},
   "source": [
    "Some of the commonly used libraries used by Data Scientists include:\n",
    "1. ggplot\n",
    "2. matplotlib\n",
    "3. numpy"
   ]
  },
  {
   "cell_type": "markdown",
   "id": "cd381e13",
   "metadata": {},
   "source": [
    "|Data Science Tools |\n",
    "|:-----|\n",
    "|Rstudio |\n",
    "|Jupyther Notebook |\n",
    "|IBM Watson Studio  |\n"
   ]
  },
  {
   "cell_type": "markdown",
   "id": "6b376665",
   "metadata": {},
   "source": [
    "### Below are a few examples of evaluating arithmetic expressions in Python"
   ]
  },
  {
   "cell_type": "code",
   "execution_count": 1,
   "id": "ff8ba72c",
   "metadata": {},
   "outputs": [
    {
     "data": {
      "text/plain": [
       "17"
      ]
     },
     "execution_count": 1,
     "metadata": {},
     "output_type": "execute_result"
    }
   ],
   "source": [
    "(3*4)+5  # This a simple arithmetic expression to mutiply then add integers"
   ]
  },
  {
   "cell_type": "code",
   "execution_count": 2,
   "id": "8af1590c",
   "metadata": {},
   "outputs": [
    {
     "data": {
      "text/plain": [
       "3.3333333333333335"
      ]
     },
     "execution_count": 2,
     "metadata": {},
     "output_type": "execute_result"
    }
   ],
   "source": [
    "200/60  # This will convert 200 minutes to hours by diving by 60"
   ]
  },
  {
   "cell_type": "markdown",
   "id": "f97e9a9d",
   "metadata": {},
   "source": [
    "## Author\n",
    "Jason Bobo Kyaw"
   ]
  },
  {
   "cell_type": "code",
   "execution_count": null,
   "id": "0ed85d59",
   "metadata": {},
   "outputs": [],
   "source": []
  }
 ],
 "metadata": {
  "kernelspec": {
   "display_name": "Python 3 (ipykernel)",
   "language": "python",
   "name": "python3"
  },
  "language_info": {
   "codemirror_mode": {
    "name": "ipython",
    "version": 3
   },
   "file_extension": ".py",
   "mimetype": "text/x-python",
   "name": "python",
   "nbconvert_exporter": "python",
   "pygments_lexer": "ipython3",
   "version": "3.11.4"
  }
 },
 "nbformat": 4,
 "nbformat_minor": 5
}
